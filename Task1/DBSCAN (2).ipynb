{
 "cells": [
  {
   "cell_type": "code",
   "execution_count": 1,
   "id": "65e94b32",
   "metadata": {},
   "outputs": [
    {
     "name": "stdout",
     "output_type": "stream",
     "text": [
      "Optimal eps: 1.2999999999999998, Optimal min_samples: 3\n",
      "Cluster labels for filtered normal data: [0 0 0 ... 0 0 0]\n",
      "Is the normal sample an anomaly? True\n",
      "Is the anomalous sample an anomaly? False\n"
     ]
    }
   ],
   "source": [
    "import pandas as pd\n",
    "import numpy as np\n",
    "from sklearn.preprocessing import StandardScaler\n",
    "from sklearn.cluster import DBSCAN\n",
    "from sklearn.metrics import silhouette_score\n",
    "\n",
    "# Load the normal data\n",
    "df_normal = pd.read_csv('normall.csv')\n",
    "\n",
    "# Extract feature columns\n",
    "X_normal = df_normal[['bearingA_x', 'bearingA_y', 'bearingB_x', 'bearingB_y']].values\n",
    "\n",
    "# Standardize the data (important for DBSCAN)\n",
    "scaler = StandardScaler()\n",
    "X_normal_scaled = scaler.fit_transform(X_normal)\n",
    "\n",
    "# Function to perform grid search to find optimal DBSCAN parameters\n",
    "def manual_grid_search_dbscan(data, eps_values, min_samples_values):\n",
    "    best_score = -1\n",
    "    best_params = {'eps': None, 'min_samples': None}\n",
    "\n",
    "    for eps in eps_values:\n",
    "        for min_samples in min_samples_values:\n",
    "            dbscan = DBSCAN(eps=eps, min_samples=min_samples)\n",
    "            labels = dbscan.fit_predict(data)\n",
    "            # Ignore if all points are considered noise\n",
    "            if len(set(labels)) > 1:\n",
    "                score = silhouette_score(data, labels)\n",
    "                if score > best_score:\n",
    "                    best_score = score\n",
    "                    best_params = {'eps': eps, 'min_samples': min_samples}\n",
    "    return best_params\n",
    "\n",
    "# Define the range of eps and min_samples values\n",
    "eps_values = np.arange(0.5, 2.1, 0.1)  # Adjusted range\n",
    "min_samples_values = np.arange(3, 10)\n",
    "\n",
    "# Find optimal parameters\n",
    "best_params = manual_grid_search_dbscan(X_normal_scaled, eps_values, min_samples_values)\n",
    "eps = best_params['eps']\n",
    "min_samples = best_params['min_samples']\n",
    "\n",
    "print(f\"Optimal eps: {eps}, Optimal min_samples: {min_samples}\")\n",
    "\n",
    "# Train the DBSCAN model with optimal parameters\n",
    "dbscan = DBSCAN(eps=eps, min_samples=min_samples)\n",
    "labels = dbscan.fit_predict(X_normal_scaled)\n",
    "\n",
    "# Filter out anomalies from the normal data\n",
    "normal_data_filtered = X_normal_scaled[labels >= 0]\n",
    "\n",
    "# Re-train DBSCAN on the filtered normal data\n",
    "dbscan_filtered = DBSCAN(eps=eps, min_samples=min_samples)\n",
    "dbscan_filtered.fit(normal_data_filtered)\n",
    "\n",
    "# Ensure there are no anomalies in the filtered normal training data\n",
    "assert np.all(dbscan_filtered.labels_ >= 0), \"There should be no anomalies in the filtered normal training data\"\n",
    "\n",
    "print(\"Cluster labels for filtered normal data:\", dbscan_filtered.labels_)\n",
    "\n",
    "# Function to detect anomalies\n",
    "def is_anomaly(sample, dbscan_model, scaler):\n",
    "    sample_scaled = scaler.transform([sample])\n",
    "    labels = dbscan_model.fit_predict(np.vstack([dbscan_model.components_, sample_scaled]))\n",
    "    return labels[-1] == -1  # If the label is -1, it's an anomaly\n",
    "\n",
    "# Example test samples (assumed normal and anomalous samples)\n",
    "new_sample_normal = [-0.469915051151626, 0.275878711735454,-0.0275614966845328,-0.0887079422926568]  # Example normal data\n",
    "new_sample_anomaly = [0.0620035945873911,-0.110699903969443,-0.0376392274991288,0.0168727730326617]  # Example anomalous data\n",
    "\n",
    "# Check if the samples are anomalies\n",
    "print(\"Is the normal sample an anomaly?\", is_anomaly(new_sample_normal, dbscan_filtered, scaler))\n",
    "print(\"Is the anomalous sample an anomaly?\", is_anomaly(new_sample_anomaly, dbscan_filtered, scaler))\n"
   ]
  },
  {
   "cell_type": "code",
   "execution_count": 6,
   "id": "d27b5b91",
   "metadata": {},
   "outputs": [
    {
     "name": "stdout",
     "output_type": "stream",
     "text": [
      "(4999, 4)\n",
      "Optimal eps: 1.2999999999999998, Optimal min_samples: 3\n",
      "Cluster labels for filtered normal data: [0 0 0 ... 0 0 0]\n",
      "(595, 5)\n",
      "Accuracy of the model on the anomaly detection dataset: 1.00\n"
     ]
    }
   ],
   "source": [
    "#DBSCAN (Density-Based Spatial Clustering of Applications with Noise)\n",
    "import pandas as pd\n",
    "import numpy as np\n",
    "from sklearn.preprocessing import StandardScaler\n",
    "from sklearn.cluster import DBSCAN\n",
    "from sklearn.metrics import silhouette_score, accuracy_score\n",
    "\n",
    "df_normal = pd.read_csv('normall.csv')\n",
    "print(df_normal.shape)\n",
    "\n",
    "X_normal = df_normal[['bearingA_x', 'bearingA_y', 'bearingB_x', 'bearingB_y']].values\n",
    "\n",
    "scaler = StandardScaler()\n",
    "X_normal_scaled = scaler.fit_transform(X_normal)\n",
    "\n",
    "def manual_grid_search_dbscan(data, eps_values, min_samples_values):\n",
    "    best_score = -1\n",
    "    best_params = {'eps': None, 'min_samples': None}\n",
    "\n",
    "    for eps in eps_values:\n",
    "        for min_samples in min_samples_values:\n",
    "            dbscan = DBSCAN(eps=eps, min_samples=min_samples)\n",
    "            labels = dbscan.fit_predict(data)\n",
    "            if len(set(labels)) > 1:\n",
    "                score = silhouette_score(data, labels)\n",
    "                if score > best_score:\n",
    "                    best_score = score\n",
    "                    best_params = {'eps': eps, 'min_samples': min_samples}\n",
    "    return best_params\n",
    "\n",
    "eps_values = np.arange(0.5, 2.1, 0.1)\n",
    "min_samples_values = np.arange(3, 10)\n",
    "\n",
    "# Find optimal parameters\n",
    "best_params = manual_grid_search_dbscan(X_normal_scaled, eps_values, min_samples_values)\n",
    "eps = best_params['eps']\n",
    "min_samples = best_params['min_samples']\n",
    "\n",
    "print(f\"Optimal eps: {eps}, Optimal min_samples: {min_samples}\")\n",
    "\n",
    "dbscan = DBSCAN(eps=eps, min_samples=min_samples)\n",
    "labels = dbscan.fit_predict(X_normal_scaled)\n",
    "\n",
    "normal_data_filtered = X_normal_scaled[labels >= 0]\n",
    "\n",
    "dbscan_filtered = DBSCAN(eps=eps, min_samples=min_samples)\n",
    "dbscan_filtered.fit(normal_data_filtered)\n",
    "\n",
    "assert np.all(dbscan_filtered.labels_ >= 0), \"There should be no anomalies in the filtered normal training data\"\n",
    "\n",
    "print(\"Cluster labels for filtered normal data:\", dbscan_filtered.labels_)\n",
    "\n",
    "def is_anomaly(sample, dbscan_model, scaler):\n",
    "    sample_scaled = scaler.transform([sample])\n",
    "    labels = dbscan_model.fit_predict(np.vstack([dbscan_model.components_, sample_scaled]))\n",
    "    return labels[-1] == -1 \n",
    "\n",
    "df_anomaly = pd.read_csv('anomlaydetection.csv')\n",
    "print(df_anomaly.shape)\n",
    "\n",
    "X_anomaly = df_anomaly[['bearingA_x', 'bearingA_y', 'bearingB_x', 'bearingB_y']].values\n",
    "y_true = df_anomaly['Anomaly'].values\n",
    "\n",
    "X_anomaly_scaled = scaler.transform(X_anomaly)\n",
    "\n",
    "y_pred = [is_anomaly(sample, dbscan_filtered, scaler) for sample in X_anomaly]\n",
    "\n",
    "y_pred = np.array(y_pred, dtype=int)\n",
    "\n",
    "y_true = np.array(y_true, dtype=int)\n",
    "\n",
    "accuracy = accuracy_score(y_true, y_pred)\n",
    "\n",
    "print(f\"Accuracy of the model on the anomaly detection dataset: {accuracy:.2f}\")\n"
   ]
  },
  {
   "cell_type": "code",
   "execution_count": 4,
   "id": "cf8cb074",
   "metadata": {},
   "outputs": [
    {
     "data": {
      "text/plain": [
       "(4999, 4)"
      ]
     },
     "execution_count": 4,
     "metadata": {},
     "output_type": "execute_result"
    }
   ],
   "source": [
    "df = pd.read_csv('normall.csv')\n",
    "df.shape"
   ]
  },
  {
   "cell_type": "code",
   "execution_count": 5,
   "id": "93246d39",
   "metadata": {},
   "outputs": [
    {
     "data": {
      "text/plain": [
       "(595, 5)"
      ]
     },
     "execution_count": 5,
     "metadata": {},
     "output_type": "execute_result"
    }
   ],
   "source": [
    "df = pd.read_csv('anomlaydetection.csv')\n",
    "df.shape"
   ]
  },
  {
   "cell_type": "code",
   "execution_count": 8,
   "id": "68788df4",
   "metadata": {},
   "outputs": [
    {
     "name": "stdout",
     "output_type": "stream",
     "text": [
      "Optimal eps: 1.2999999999999998, Optimal min_samples: 3\n",
      "Cluster labels for filtered normal data: [0 0 0 ... 0 0 0]\n",
      "Is the normal sample an anomaly? False\n",
      "Is the anomalous sample an anomaly? False\n"
     ]
    }
   ],
   "source": [
    "import pandas as pd\n",
    "import numpy as np\n",
    "from sklearn.preprocessing import StandardScaler\n",
    "from sklearn.cluster import DBSCAN\n",
    "from sklearn.metrics import silhouette_score\n",
    "\n",
    "# Load the normal data\n",
    "df_normal = pd.read_csv('normall.csv')\n",
    "\n",
    "# Extract feature columns\n",
    "X_normal = df_normal[['bearingA_x', 'bearingA_y', 'bearingB_x', 'bearingB_y']].values\n",
    "\n",
    "# Standardize the data (important for DBSCAN)\n",
    "scaler = StandardScaler()\n",
    "X_normal_scaled = scaler.fit_transform(X_normal)\n",
    "\n",
    "# Function to perform grid search to find optimal DBSCAN parameters\n",
    "def manual_grid_search_dbscan(data, eps_values, min_samples_values):\n",
    "    best_score = -1\n",
    "    best_params = {'eps': None, 'min_samples': None}\n",
    "\n",
    "    for eps in eps_values:\n",
    "        for min_samples in min_samples_values:\n",
    "            dbscan = DBSCAN(eps=eps, min_samples=min_samples)\n",
    "            labels = dbscan.fit_predict(data)\n",
    "            # Ignore if all points are considered noise\n",
    "            if len(set(labels)) > 1:\n",
    "                score = silhouette_score(data, labels)\n",
    "                if score > best_score:\n",
    "                    best_score = score\n",
    "                    best_params = {'eps': eps, 'min_samples': min_samples}\n",
    "    return best_params\n",
    "\n",
    "# Define the range of eps and min_samples values\n",
    "eps_values = np.arange(0.5, 2.1, 0.1)  # Adjusted range\n",
    "min_samples_values = np.arange(3, 10)\n",
    "\n",
    "# Find optimal parameters\n",
    "best_params = manual_grid_search_dbscan(X_normal_scaled, eps_values, min_samples_values)\n",
    "eps = best_params['eps']\n",
    "min_samples = best_params['min_samples']\n",
    "\n",
    "print(f\"Optimal eps: {eps}, Optimal min_samples: {min_samples}\")\n",
    "\n",
    "# Train the DBSCAN model with optimal parameters\n",
    "dbscan = DBSCAN(eps=eps, min_samples=min_samples)\n",
    "labels = dbscan.fit_predict(X_normal_scaled)\n",
    "\n",
    "# Filter out anomalies from the normal data\n",
    "normal_data_filtered = X_normal_scaled[labels >= 0]\n",
    "\n",
    "# Re-train DBSCAN on the filtered normal data\n",
    "dbscan_filtered = DBSCAN(eps=eps, min_samples=min_samples)\n",
    "dbscan_filtered.fit(normal_data_filtered)\n",
    "\n",
    "# Ensure there are no anomalies in the filtered normal training data\n",
    "assert np.all(dbscan_filtered.labels_ >= 0), \"There should be no anomalies in the filtered normal training data\"\n",
    "\n",
    "print(\"Cluster labels for filtered normal data:\", dbscan_filtered.labels_)\n",
    "\n",
    "# Function to detect anomalies\n",
    "def is_anomaly(sample, dbscan_model, scaler):\n",
    "    sample_scaled = scaler.transform([sample])\n",
    "    labels = dbscan_model.fit_predict(np.vstack([dbscan_model.components_, sample_scaled]))\n",
    "    return labels[-1] == -1  # If the label is -1, it's an anomaly\n",
    "\n",
    "# Example test samples (assumed normal and anomalous samples)\n",
    "new_sample_normal = [0.189630843,0.012816744,-0.022304104,0.020324712]  # Example normal data\n",
    "new_sample_anomaly = [0.0620035945873911,-0.110699903969443,-0.0376392274991288,0.0168727730326617]  # Example anomalous data\n",
    "\n",
    "# Check if the samples are anomalies\n",
    "print(\"Is the normal sample an anomaly?\", is_anomaly(new_sample_normal, dbscan_filtered, scaler))\n",
    "print(\"Is the anomalous sample an anomaly?\", is_anomaly(new_sample_anomaly, dbscan_filtered, scaler))\n"
   ]
  },
  {
   "cell_type": "code",
   "execution_count": 1,
   "id": "0b650844",
   "metadata": {},
   "outputs": [
    {
     "name": "stdout",
     "output_type": "stream",
     "text": [
      "(4999, 4)\n",
      "(595, 5)\n",
      "Accuracy of the One-Class SVM model on the anomaly detection dataset: 0.99\n"
     ]
    }
   ],
   "source": [
    "#svm\n",
    "import pandas as pd\n",
    "import numpy as np\n",
    "from sklearn.preprocessing import StandardScaler\n",
    "from sklearn.svm import OneClassSVM\n",
    "from sklearn.metrics import accuracy_score\n",
    "\n",
    "# Load the normal data\n",
    "df_normal = pd.read_csv('normall.csv')\n",
    "print(df_normal.shape)\n",
    "\n",
    "# Extract feature columns\n",
    "X_normal = df_normal[['bearingA_x', 'bearingA_y', 'bearingB_x', 'bearingB_y']].values\n",
    "\n",
    "# Standardize the data\n",
    "scaler = StandardScaler()\n",
    "X_normal_scaled = scaler.fit_transform(X_normal)\n",
    "\n",
    "# Train the One-Class SVM model\n",
    "svm = OneClassSVM(kernel='rbf', gamma='auto', nu=0.01)  # you can tune these hyperparameters\n",
    "svm.fit(X_normal_scaled)\n",
    "\n",
    "# Load the anomaly detection data\n",
    "df_anomaly = pd.read_csv('anomlaydetection.csv')\n",
    "print(df_anomaly.shape)\n",
    "\n",
    "# Extract features and true labels\n",
    "X_anomaly = df_anomaly[['bearingA_x', 'bearingA_y', 'bearingB_x', 'bearingB_y']].values\n",
    "y_true = df_anomaly['Anomaly'].values\n",
    "\n",
    "# Standardize the anomaly detection data\n",
    "X_anomaly_scaled = scaler.transform(X_anomaly)\n",
    "\n",
    "# Predict anomalies using the trained One-Class SVM\n",
    "y_pred = svm.predict(X_anomaly_scaled)\n",
    "\n",
    "# One-Class SVM outputs -1 for anomalies and 1 for normal points\n",
    "# Convert predictions to binary format (0 for normal, 1 for anomaly)\n",
    "y_pred = np.where(y_pred == -1, 1, 0)\n",
    "\n",
    "# Convert true labels to integers (0 for normal, 1 for anomaly)\n",
    "y_true = np.array(y_true, dtype=int)\n",
    "\n",
    "# Calculate accuracy\n",
    "accuracy = accuracy_score(y_true, y_pred)\n",
    "\n",
    "print(f\"Accuracy of the One-Class SVM model on the anomaly detection dataset: {accuracy:.2f}\")\n"
   ]
  },
  {
   "cell_type": "code",
   "execution_count": 4,
   "id": "e4c32dc3",
   "metadata": {},
   "outputs": [
    {
     "name": "stdout",
     "output_type": "stream",
     "text": [
      "(4999, 4)\n",
      "Optimal bandwidth: 0.4275862068965517\n",
      "(595, 5)\n",
      "Accuracy of the combined model on the anomaly detection dataset: 0.98\n"
     ]
    }
   ],
   "source": [
    "#ensemble\n",
    "import pandas as pd\n",
    "import numpy as np\n",
    "from sklearn.preprocessing import StandardScaler\n",
    "from sklearn.decomposition import PCA\n",
    "from sklearn.ensemble import IsolationForest\n",
    "from sklearn.neighbors import KernelDensity\n",
    "from sklearn.metrics import accuracy_score\n",
    "from sklearn.model_selection import GridSearchCV\n",
    "\n",
    "# Load the normal data\n",
    "df_normal = pd.read_csv('normall.csv')\n",
    "print(df_normal.shape)\n",
    "\n",
    "# Extract feature columns\n",
    "X_normal = df_normal[['bearingA_x', 'bearingA_y', 'bearingB_x', 'bearingB_y']].values\n",
    "\n",
    "# Standardize the data\n",
    "scaler = StandardScaler()\n",
    "X_normal_scaled = scaler.fit_transform(X_normal)\n",
    "\n",
    "# Apply PCA for dimensionality reduction\n",
    "pca = PCA(n_components=2)  # Reduce to 2 dimensions\n",
    "X_normal_pca = pca.fit_transform(X_normal_scaled)\n",
    "\n",
    "# Use GridSearchCV to find the best bandwidth parameter for KDE\n",
    "params = {'bandwidth': np.linspace(0.1, 2.0, 30)}\n",
    "grid_search = GridSearchCV(KernelDensity(kernel='gaussian'), params, cv=5)\n",
    "grid_search.fit(X_normal_pca)\n",
    "\n",
    "# Get the best bandwidth\n",
    "best_bandwidth = grid_search.best_estimator_.bandwidth\n",
    "print(f\"Optimal bandwidth: {best_bandwidth}\")\n",
    "\n",
    "# Train the Kernel Density model with the optimal bandwidth\n",
    "kde = KernelDensity(kernel='gaussian', bandwidth=best_bandwidth)\n",
    "kde.fit(X_normal_pca)\n",
    "\n",
    "# Train the Isolation Forest model\n",
    "iso_forest = IsolationForest(contamination=0.05)  # Adjust contamination as needed\n",
    "iso_forest.fit(X_normal_pca)\n",
    "\n",
    "# Load the anomaly detection data\n",
    "df_anomaly = pd.read_csv('anomlaydetection.csv')\n",
    "print(df_anomaly.shape)\n",
    "\n",
    "# Extract features and true labels\n",
    "X_anomaly = df_anomaly[['bearingA_x', 'bearingA_y', 'bearingB_x', 'bearingB_y']].values\n",
    "y_true = df_anomaly['Anomaly'].values\n",
    "\n",
    "# Standardize the anomaly detection data\n",
    "X_anomaly_scaled = scaler.transform(X_anomaly)\n",
    "\n",
    "# Apply PCA transformation\n",
    "X_anomaly_pca = pca.transform(X_anomaly_scaled)\n",
    "\n",
    "# Predict anomalies using the trained Kernel Density model\n",
    "log_density = kde.score_samples(X_anomaly_pca)\n",
    "\n",
    "# Predict anomalies using the trained Isolation Forest model\n",
    "iso_pred = iso_forest.predict(X_anomaly_pca)\n",
    "\n",
    "# Define a threshold for KDE-based anomaly detection\n",
    "kde_threshold = np.percentile(log_density, 5)  # Bottom 5% density\n",
    "kde_pred = log_density < kde_threshold\n",
    "\n",
    "# Combine predictions (using OR logic: if either model predicts anomaly, it is an anomaly)\n",
    "y_pred = np.logical_or(kde_pred, iso_pred == -1).astype(int)\n",
    "\n",
    "# Convert true labels to integers (0 for normal, 1 for anomaly)\n",
    "y_true = np.array(y_true, dtype=int)\n",
    "\n",
    "# Calculate accuracy\n",
    "accuracy = accuracy_score(y_true, y_pred)\n",
    "\n",
    "print(f\"Accuracy of the combined model on the anomaly detection dataset: {accuracy:.2f}\")\n",
    "\n"
   ]
  },
  {
   "cell_type": "code",
   "execution_count": 5,
   "id": "3831fa4c",
   "metadata": {},
   "outputs": [
    {
     "name": "stdout",
     "output_type": "stream",
     "text": [
      "(4999, 4)\n",
      "(595, 5)\n",
      "Bandwidth: 0.1, Kernel: gaussian, Accuracy: 0.28\n"
     ]
    },
    {
     "name": "stderr",
     "output_type": "stream",
     "text": [
      "C:\\Python310\\lib\\site-packages\\numpy\\lib\\function_base.py:4573: RuntimeWarning: invalid value encountered in subtract\n",
      "  diff_b_a = subtract(b, a)\n",
      "C:\\Python310\\lib\\site-packages\\numpy\\lib\\function_base.py:4573: RuntimeWarning: invalid value encountered in subtract\n",
      "  diff_b_a = subtract(b, a)\n",
      "C:\\Python310\\lib\\site-packages\\numpy\\lib\\function_base.py:4573: RuntimeWarning: invalid value encountered in subtract\n",
      "  diff_b_a = subtract(b, a)\n"
     ]
    },
    {
     "name": "stdout",
     "output_type": "stream",
     "text": [
      "Bandwidth: 0.1, Kernel: tophat, Accuracy: 0.23\n",
      "Bandwidth: 0.1, Kernel: epanechnikov, Accuracy: 0.23\n",
      "Bandwidth: 0.1, Kernel: exponential, Accuracy: 0.28\n",
      "Bandwidth: 0.1, Kernel: linear, Accuracy: 0.23\n",
      "Bandwidth: 0.1, Kernel: cosine, Accuracy: 0.23\n",
      "Bandwidth: 0.2, Kernel: gaussian, Accuracy: 0.28\n",
      "Bandwidth: 0.2, Kernel: tophat, Accuracy: 0.23\n",
      "Bandwidth: 0.2, Kernel: epanechnikov, Accuracy: 0.23\n",
      "Bandwidth: 0.2, Kernel: exponential, Accuracy: 0.28\n",
      "Bandwidth: 0.2, Kernel: linear, Accuracy: 0.23\n",
      "Bandwidth: 0.2, Kernel: cosine, Accuracy: 0.23\n",
      "Bandwidth: 0.3, Kernel: gaussian, Accuracy: 0.28\n",
      "Bandwidth: 0.3, Kernel: tophat, Accuracy: 0.23\n",
      "Bandwidth: 0.3, Kernel: epanechnikov, Accuracy: 0.23\n"
     ]
    },
    {
     "name": "stderr",
     "output_type": "stream",
     "text": [
      "C:\\Python310\\lib\\site-packages\\numpy\\lib\\function_base.py:4573: RuntimeWarning: invalid value encountered in subtract\n",
      "  diff_b_a = subtract(b, a)\n",
      "C:\\Python310\\lib\\site-packages\\numpy\\lib\\function_base.py:4573: RuntimeWarning: invalid value encountered in subtract\n",
      "  diff_b_a = subtract(b, a)\n",
      "C:\\Python310\\lib\\site-packages\\numpy\\lib\\function_base.py:4573: RuntimeWarning: invalid value encountered in subtract\n",
      "  diff_b_a = subtract(b, a)\n",
      "C:\\Python310\\lib\\site-packages\\numpy\\lib\\function_base.py:4573: RuntimeWarning: invalid value encountered in subtract\n",
      "  diff_b_a = subtract(b, a)\n",
      "C:\\Python310\\lib\\site-packages\\numpy\\lib\\function_base.py:4573: RuntimeWarning: invalid value encountered in subtract\n",
      "  diff_b_a = subtract(b, a)\n"
     ]
    },
    {
     "name": "stdout",
     "output_type": "stream",
     "text": [
      "Bandwidth: 0.3, Kernel: exponential, Accuracy: 0.28\n",
      "Bandwidth: 0.3, Kernel: linear, Accuracy: 0.23\n",
      "Bandwidth: 0.3, Kernel: cosine, Accuracy: 0.23\n",
      "Bandwidth: 0.4, Kernel: gaussian, Accuracy: 0.28\n",
      "Bandwidth: 0.4, Kernel: tophat, Accuracy: 0.23\n",
      "Bandwidth: 0.4, Kernel: epanechnikov, Accuracy: 0.23\n"
     ]
    },
    {
     "name": "stderr",
     "output_type": "stream",
     "text": [
      "C:\\Python310\\lib\\site-packages\\numpy\\lib\\function_base.py:4573: RuntimeWarning: invalid value encountered in subtract\n",
      "  diff_b_a = subtract(b, a)\n",
      "C:\\Python310\\lib\\site-packages\\numpy\\lib\\function_base.py:4573: RuntimeWarning: invalid value encountered in subtract\n",
      "  diff_b_a = subtract(b, a)\n",
      "C:\\Python310\\lib\\site-packages\\numpy\\lib\\function_base.py:4573: RuntimeWarning: invalid value encountered in subtract\n",
      "  diff_b_a = subtract(b, a)\n"
     ]
    },
    {
     "name": "stdout",
     "output_type": "stream",
     "text": [
      "Bandwidth: 0.4, Kernel: exponential, Accuracy: 0.28\n",
      "Bandwidth: 0.4, Kernel: linear, Accuracy: 0.23\n",
      "Bandwidth: 0.4, Kernel: cosine, Accuracy: 0.23\n",
      "Bandwidth: 0.5, Kernel: gaussian, Accuracy: 0.28\n",
      "Bandwidth: 0.5, Kernel: tophat, Accuracy: 0.23\n"
     ]
    },
    {
     "name": "stderr",
     "output_type": "stream",
     "text": [
      "C:\\Python310\\lib\\site-packages\\numpy\\lib\\function_base.py:4573: RuntimeWarning: invalid value encountered in subtract\n",
      "  diff_b_a = subtract(b, a)\n",
      "C:\\Python310\\lib\\site-packages\\numpy\\lib\\function_base.py:4573: RuntimeWarning: invalid value encountered in subtract\n",
      "  diff_b_a = subtract(b, a)\n",
      "C:\\Python310\\lib\\site-packages\\numpy\\lib\\function_base.py:4573: RuntimeWarning: invalid value encountered in subtract\n",
      "  diff_b_a = subtract(b, a)\n"
     ]
    },
    {
     "name": "stdout",
     "output_type": "stream",
     "text": [
      "Bandwidth: 0.5, Kernel: epanechnikov, Accuracy: 0.23\n",
      "Bandwidth: 0.5, Kernel: exponential, Accuracy: 0.28\n"
     ]
    },
    {
     "name": "stderr",
     "output_type": "stream",
     "text": [
      "C:\\Python310\\lib\\site-packages\\numpy\\lib\\function_base.py:4573: RuntimeWarning: invalid value encountered in subtract\n",
      "  diff_b_a = subtract(b, a)\n",
      "C:\\Python310\\lib\\site-packages\\numpy\\lib\\function_base.py:4573: RuntimeWarning: invalid value encountered in subtract\n",
      "  diff_b_a = subtract(b, a)\n",
      "C:\\Python310\\lib\\site-packages\\numpy\\lib\\function_base.py:4573: RuntimeWarning: invalid value encountered in subtract\n",
      "  diff_b_a = subtract(b, a)\n"
     ]
    },
    {
     "name": "stdout",
     "output_type": "stream",
     "text": [
      "Bandwidth: 0.5, Kernel: linear, Accuracy: 0.23\n",
      "Bandwidth: 0.5, Kernel: cosine, Accuracy: 0.23\n",
      "Bandwidth: 0.6, Kernel: gaussian, Accuracy: 0.28\n",
      "Bandwidth: 0.6, Kernel: tophat, Accuracy: 0.23\n",
      "Bandwidth: 0.6, Kernel: epanechnikov, Accuracy: 0.23\n",
      "Bandwidth: 0.6, Kernel: exponential, Accuracy: 0.28\n",
      "Bandwidth: 0.6, Kernel: linear, Accuracy: 0.23\n",
      "Bandwidth: 0.6, Kernel: cosine, Accuracy: 0.23\n",
      "Bandwidth: 0.7, Kernel: gaussian, Accuracy: 0.28\n",
      "Bandwidth: 0.7, Kernel: tophat, Accuracy: 0.23\n",
      "Bandwidth: 0.7, Kernel: epanechnikov, Accuracy: 0.23\n"
     ]
    },
    {
     "name": "stderr",
     "output_type": "stream",
     "text": [
      "C:\\Python310\\lib\\site-packages\\numpy\\lib\\function_base.py:4573: RuntimeWarning: invalid value encountered in subtract\n",
      "  diff_b_a = subtract(b, a)\n",
      "C:\\Python310\\lib\\site-packages\\numpy\\lib\\function_base.py:4573: RuntimeWarning: invalid value encountered in subtract\n",
      "  diff_b_a = subtract(b, a)\n",
      "C:\\Python310\\lib\\site-packages\\numpy\\lib\\function_base.py:4573: RuntimeWarning: invalid value encountered in subtract\n",
      "  diff_b_a = subtract(b, a)\n",
      "C:\\Python310\\lib\\site-packages\\numpy\\lib\\function_base.py:4573: RuntimeWarning: invalid value encountered in subtract\n",
      "  diff_b_a = subtract(b, a)\n"
     ]
    },
    {
     "name": "stdout",
     "output_type": "stream",
     "text": [
      "Bandwidth: 0.7, Kernel: exponential, Accuracy: 0.28\n",
      "Bandwidth: 0.7, Kernel: linear, Accuracy: 0.23\n",
      "Bandwidth: 0.7, Kernel: cosine, Accuracy: 0.23\n",
      "Bandwidth: 0.7999999999999999, Kernel: gaussian, Accuracy: 0.28\n",
      "Bandwidth: 0.7999999999999999, Kernel: tophat, Accuracy: 0.23\n",
      "Bandwidth: 0.7999999999999999, Kernel: epanechnikov, Accuracy: 0.23\n"
     ]
    },
    {
     "name": "stderr",
     "output_type": "stream",
     "text": [
      "C:\\Python310\\lib\\site-packages\\numpy\\lib\\function_base.py:4573: RuntimeWarning: invalid value encountered in subtract\n",
      "  diff_b_a = subtract(b, a)\n",
      "C:\\Python310\\lib\\site-packages\\numpy\\lib\\function_base.py:4573: RuntimeWarning: invalid value encountered in subtract\n",
      "  diff_b_a = subtract(b, a)\n"
     ]
    },
    {
     "name": "stdout",
     "output_type": "stream",
     "text": [
      "Bandwidth: 0.7999999999999999, Kernel: exponential, Accuracy: 0.28\n",
      "Bandwidth: 0.7999999999999999, Kernel: linear, Accuracy: 0.23\n",
      "Bandwidth: 0.7999999999999999, Kernel: cosine, Accuracy: 0.23\n"
     ]
    },
    {
     "name": "stderr",
     "output_type": "stream",
     "text": [
      "C:\\Python310\\lib\\site-packages\\numpy\\lib\\function_base.py:4573: RuntimeWarning: invalid value encountered in subtract\n",
      "  diff_b_a = subtract(b, a)\n"
     ]
    },
    {
     "name": "stdout",
     "output_type": "stream",
     "text": [
      "Bandwidth: 0.8999999999999999, Kernel: gaussian, Accuracy: 0.28\n",
      "Bandwidth: 0.8999999999999999, Kernel: tophat, Accuracy: 0.23\n",
      "Bandwidth: 0.8999999999999999, Kernel: epanechnikov, Accuracy: 0.23\n"
     ]
    },
    {
     "name": "stderr",
     "output_type": "stream",
     "text": [
      "C:\\Python310\\lib\\site-packages\\numpy\\lib\\function_base.py:4573: RuntimeWarning: invalid value encountered in subtract\n",
      "  diff_b_a = subtract(b, a)\n",
      "C:\\Python310\\lib\\site-packages\\numpy\\lib\\function_base.py:4573: RuntimeWarning: invalid value encountered in subtract\n",
      "  diff_b_a = subtract(b, a)\n"
     ]
    },
    {
     "name": "stdout",
     "output_type": "stream",
     "text": [
      "Bandwidth: 0.8999999999999999, Kernel: exponential, Accuracy: 0.28\n",
      "Bandwidth: 0.8999999999999999, Kernel: linear, Accuracy: 0.23\n",
      "Bandwidth: 0.8999999999999999, Kernel: cosine, Accuracy: 0.23\n"
     ]
    },
    {
     "name": "stderr",
     "output_type": "stream",
     "text": [
      "C:\\Python310\\lib\\site-packages\\numpy\\lib\\function_base.py:4573: RuntimeWarning: invalid value encountered in subtract\n",
      "  diff_b_a = subtract(b, a)\n"
     ]
    },
    {
     "name": "stdout",
     "output_type": "stream",
     "text": [
      "Bandwidth: 0.9999999999999999, Kernel: gaussian, Accuracy: 0.28\n",
      "Bandwidth: 0.9999999999999999, Kernel: tophat, Accuracy: 0.23\n",
      "Bandwidth: 0.9999999999999999, Kernel: epanechnikov, Accuracy: 0.23\n",
      "Bandwidth: 0.9999999999999999, Kernel: exponential, Accuracy: 0.28\n"
     ]
    },
    {
     "name": "stderr",
     "output_type": "stream",
     "text": [
      "C:\\Python310\\lib\\site-packages\\numpy\\lib\\function_base.py:4573: RuntimeWarning: invalid value encountered in subtract\n",
      "  diff_b_a = subtract(b, a)\n",
      "C:\\Python310\\lib\\site-packages\\numpy\\lib\\function_base.py:4573: RuntimeWarning: invalid value encountered in subtract\n",
      "  diff_b_a = subtract(b, a)\n",
      "C:\\Python310\\lib\\site-packages\\numpy\\lib\\function_base.py:4573: RuntimeWarning: invalid value encountered in subtract\n",
      "  diff_b_a = subtract(b, a)\n"
     ]
    },
    {
     "name": "stdout",
     "output_type": "stream",
     "text": [
      "Bandwidth: 0.9999999999999999, Kernel: linear, Accuracy: 0.23\n",
      "Bandwidth: 0.9999999999999999, Kernel: cosine, Accuracy: 0.23\n",
      "Bandwidth: 1.0999999999999999, Kernel: gaussian, Accuracy: 0.28\n",
      "Bandwidth: 1.0999999999999999, Kernel: tophat, Accuracy: 0.23\n",
      "Bandwidth: 1.0999999999999999, Kernel: epanechnikov, Accuracy: 0.23\n"
     ]
    },
    {
     "name": "stderr",
     "output_type": "stream",
     "text": [
      "C:\\Python310\\lib\\site-packages\\numpy\\lib\\function_base.py:4573: RuntimeWarning: invalid value encountered in subtract\n",
      "  diff_b_a = subtract(b, a)\n",
      "C:\\Python310\\lib\\site-packages\\numpy\\lib\\function_base.py:4573: RuntimeWarning: invalid value encountered in subtract\n",
      "  diff_b_a = subtract(b, a)\n"
     ]
    },
    {
     "name": "stdout",
     "output_type": "stream",
     "text": [
      "Bandwidth: 1.0999999999999999, Kernel: exponential, Accuracy: 0.28\n",
      "Bandwidth: 1.0999999999999999, Kernel: linear, Accuracy: 0.23\n",
      "Bandwidth: 1.0999999999999999, Kernel: cosine, Accuracy: 0.23\n"
     ]
    },
    {
     "name": "stderr",
     "output_type": "stream",
     "text": [
      "C:\\Python310\\lib\\site-packages\\numpy\\lib\\function_base.py:4573: RuntimeWarning: invalid value encountered in subtract\n",
      "  diff_b_a = subtract(b, a)\n",
      "C:\\Python310\\lib\\site-packages\\numpy\\lib\\function_base.py:4573: RuntimeWarning: invalid value encountered in subtract\n",
      "  diff_b_a = subtract(b, a)\n",
      "C:\\Python310\\lib\\site-packages\\numpy\\lib\\function_base.py:4573: RuntimeWarning: invalid value encountered in subtract\n",
      "  diff_b_a = subtract(b, a)\n"
     ]
    },
    {
     "name": "stdout",
     "output_type": "stream",
     "text": [
      "Bandwidth: 1.2, Kernel: gaussian, Accuracy: 0.28\n",
      "Bandwidth: 1.2, Kernel: tophat, Accuracy: 0.23\n",
      "Bandwidth: 1.2, Kernel: epanechnikov, Accuracy: 0.23\n",
      "Bandwidth: 1.2, Kernel: exponential, Accuracy: 0.28\n",
      "Bandwidth: 1.2, Kernel: linear, Accuracy: 0.23\n",
      "Bandwidth: 1.2, Kernel: cosine, Accuracy: 0.23\n"
     ]
    },
    {
     "name": "stderr",
     "output_type": "stream",
     "text": [
      "C:\\Python310\\lib\\site-packages\\numpy\\lib\\function_base.py:4573: RuntimeWarning: invalid value encountered in subtract\n",
      "  diff_b_a = subtract(b, a)\n"
     ]
    },
    {
     "name": "stdout",
     "output_type": "stream",
     "text": [
      "Bandwidth: 1.3, Kernel: gaussian, Accuracy: 0.28\n",
      "Bandwidth: 1.3, Kernel: tophat, Accuracy: 0.23\n",
      "Bandwidth: 1.3, Kernel: epanechnikov, Accuracy: 0.23\n"
     ]
    },
    {
     "name": "stderr",
     "output_type": "stream",
     "text": [
      "C:\\Python310\\lib\\site-packages\\numpy\\lib\\function_base.py:4573: RuntimeWarning: invalid value encountered in subtract\n",
      "  diff_b_a = subtract(b, a)\n",
      "C:\\Python310\\lib\\site-packages\\numpy\\lib\\function_base.py:4573: RuntimeWarning: invalid value encountered in subtract\n",
      "  diff_b_a = subtract(b, a)\n"
     ]
    },
    {
     "name": "stdout",
     "output_type": "stream",
     "text": [
      "Bandwidth: 1.3, Kernel: exponential, Accuracy: 0.28\n",
      "Bandwidth: 1.3, Kernel: linear, Accuracy: 0.23\n",
      "Bandwidth: 1.3, Kernel: cosine, Accuracy: 0.23\n"
     ]
    },
    {
     "name": "stderr",
     "output_type": "stream",
     "text": [
      "C:\\Python310\\lib\\site-packages\\numpy\\lib\\function_base.py:4573: RuntimeWarning: invalid value encountered in subtract\n",
      "  diff_b_a = subtract(b, a)\n"
     ]
    },
    {
     "name": "stdout",
     "output_type": "stream",
     "text": [
      "Bandwidth: 1.4, Kernel: gaussian, Accuracy: 0.28\n",
      "Bandwidth: 1.4, Kernel: tophat, Accuracy: 0.23\n",
      "Bandwidth: 1.4, Kernel: epanechnikov, Accuracy: 0.23\n",
      "Bandwidth: 1.4, Kernel: exponential, Accuracy: 0.28\n"
     ]
    },
    {
     "name": "stderr",
     "output_type": "stream",
     "text": [
      "C:\\Python310\\lib\\site-packages\\numpy\\lib\\function_base.py:4573: RuntimeWarning: invalid value encountered in subtract\n",
      "  diff_b_a = subtract(b, a)\n",
      "C:\\Python310\\lib\\site-packages\\numpy\\lib\\function_base.py:4573: RuntimeWarning: invalid value encountered in subtract\n",
      "  diff_b_a = subtract(b, a)\n",
      "C:\\Python310\\lib\\site-packages\\numpy\\lib\\function_base.py:4573: RuntimeWarning: invalid value encountered in subtract\n",
      "  diff_b_a = subtract(b, a)\n"
     ]
    },
    {
     "name": "stdout",
     "output_type": "stream",
     "text": [
      "Bandwidth: 1.4, Kernel: linear, Accuracy: 0.23\n",
      "Bandwidth: 1.4, Kernel: cosine, Accuracy: 0.23\n",
      "Bandwidth: 1.5, Kernel: gaussian, Accuracy: 0.28\n",
      "Bandwidth: 1.5, Kernel: tophat, Accuracy: 0.23\n",
      "Bandwidth: 1.5, Kernel: epanechnikov, Accuracy: 0.23\n"
     ]
    },
    {
     "name": "stderr",
     "output_type": "stream",
     "text": [
      "C:\\Python310\\lib\\site-packages\\numpy\\lib\\function_base.py:4573: RuntimeWarning: invalid value encountered in subtract\n",
      "  diff_b_a = subtract(b, a)\n",
      "C:\\Python310\\lib\\site-packages\\numpy\\lib\\function_base.py:4573: RuntimeWarning: invalid value encountered in subtract\n",
      "  diff_b_a = subtract(b, a)\n"
     ]
    },
    {
     "name": "stdout",
     "output_type": "stream",
     "text": [
      "Bandwidth: 1.5, Kernel: exponential, Accuracy: 0.28\n",
      "Bandwidth: 1.5, Kernel: linear, Accuracy: 0.23\n",
      "Bandwidth: 1.5, Kernel: cosine, Accuracy: 0.23\n"
     ]
    },
    {
     "name": "stderr",
     "output_type": "stream",
     "text": [
      "C:\\Python310\\lib\\site-packages\\numpy\\lib\\function_base.py:4573: RuntimeWarning: invalid value encountered in subtract\n",
      "  diff_b_a = subtract(b, a)\n"
     ]
    },
    {
     "name": "stdout",
     "output_type": "stream",
     "text": [
      "Bandwidth: 1.5999999999999999, Kernel: gaussian, Accuracy: 0.28\n",
      "Bandwidth: 1.5999999999999999, Kernel: tophat, Accuracy: 0.23\n",
      "Bandwidth: 1.5999999999999999, Kernel: epanechnikov, Accuracy: 0.23\n",
      "Bandwidth: 1.5999999999999999, Kernel: exponential, Accuracy: 0.28\n"
     ]
    },
    {
     "name": "stderr",
     "output_type": "stream",
     "text": [
      "C:\\Python310\\lib\\site-packages\\numpy\\lib\\function_base.py:4573: RuntimeWarning: invalid value encountered in subtract\n",
      "  diff_b_a = subtract(b, a)\n",
      "C:\\Python310\\lib\\site-packages\\numpy\\lib\\function_base.py:4573: RuntimeWarning: invalid value encountered in subtract\n",
      "  diff_b_a = subtract(b, a)\n",
      "C:\\Python310\\lib\\site-packages\\numpy\\lib\\function_base.py:4573: RuntimeWarning: invalid value encountered in subtract\n",
      "  diff_b_a = subtract(b, a)\n"
     ]
    },
    {
     "name": "stdout",
     "output_type": "stream",
     "text": [
      "Bandwidth: 1.5999999999999999, Kernel: linear, Accuracy: 0.23\n",
      "Bandwidth: 1.5999999999999999, Kernel: cosine, Accuracy: 0.23\n",
      "Bandwidth: 1.7, Kernel: gaussian, Accuracy: 0.28\n",
      "Bandwidth: 1.7, Kernel: tophat, Accuracy: 0.23\n",
      "Bandwidth: 1.7, Kernel: epanechnikov, Accuracy: 0.23\n"
     ]
    },
    {
     "name": "stderr",
     "output_type": "stream",
     "text": [
      "C:\\Python310\\lib\\site-packages\\numpy\\lib\\function_base.py:4573: RuntimeWarning: invalid value encountered in subtract\n",
      "  diff_b_a = subtract(b, a)\n",
      "C:\\Python310\\lib\\site-packages\\numpy\\lib\\function_base.py:4573: RuntimeWarning: invalid value encountered in subtract\n",
      "  diff_b_a = subtract(b, a)\n"
     ]
    },
    {
     "name": "stdout",
     "output_type": "stream",
     "text": [
      "Bandwidth: 1.7, Kernel: exponential, Accuracy: 0.28\n",
      "Bandwidth: 1.7, Kernel: linear, Accuracy: 0.23\n",
      "Bandwidth: 1.7, Kernel: cosine, Accuracy: 0.23\n"
     ]
    },
    {
     "name": "stderr",
     "output_type": "stream",
     "text": [
      "C:\\Python310\\lib\\site-packages\\numpy\\lib\\function_base.py:4573: RuntimeWarning: invalid value encountered in subtract\n",
      "  diff_b_a = subtract(b, a)\n"
     ]
    },
    {
     "name": "stdout",
     "output_type": "stream",
     "text": [
      "Bandwidth: 1.8, Kernel: gaussian, Accuracy: 0.28\n",
      "Bandwidth: 1.8, Kernel: tophat, Accuracy: 0.23\n",
      "Bandwidth: 1.8, Kernel: epanechnikov, Accuracy: 0.23\n"
     ]
    },
    {
     "name": "stderr",
     "output_type": "stream",
     "text": [
      "C:\\Python310\\lib\\site-packages\\numpy\\lib\\function_base.py:4573: RuntimeWarning: invalid value encountered in subtract\n",
      "  diff_b_a = subtract(b, a)\n",
      "C:\\Python310\\lib\\site-packages\\numpy\\lib\\function_base.py:4573: RuntimeWarning: invalid value encountered in subtract\n",
      "  diff_b_a = subtract(b, a)\n"
     ]
    },
    {
     "name": "stdout",
     "output_type": "stream",
     "text": [
      "Bandwidth: 1.8, Kernel: exponential, Accuracy: 0.28\n",
      "Bandwidth: 1.8, Kernel: linear, Accuracy: 0.23\n",
      "Bandwidth: 1.8, Kernel: cosine, Accuracy: 0.23\n"
     ]
    },
    {
     "name": "stderr",
     "output_type": "stream",
     "text": [
      "C:\\Python310\\lib\\site-packages\\numpy\\lib\\function_base.py:4573: RuntimeWarning: invalid value encountered in subtract\n",
      "  diff_b_a = subtract(b, a)\n"
     ]
    },
    {
     "name": "stdout",
     "output_type": "stream",
     "text": [
      "Bandwidth: 1.9, Kernel: gaussian, Accuracy: 0.28\n",
      "Bandwidth: 1.9, Kernel: tophat, Accuracy: 0.23\n",
      "Bandwidth: 1.9, Kernel: epanechnikov, Accuracy: 0.23\n"
     ]
    },
    {
     "name": "stderr",
     "output_type": "stream",
     "text": [
      "C:\\Python310\\lib\\site-packages\\numpy\\lib\\function_base.py:4573: RuntimeWarning: invalid value encountered in subtract\n",
      "  diff_b_a = subtract(b, a)\n",
      "C:\\Python310\\lib\\site-packages\\numpy\\lib\\function_base.py:4573: RuntimeWarning: invalid value encountered in subtract\n",
      "  diff_b_a = subtract(b, a)\n"
     ]
    },
    {
     "name": "stdout",
     "output_type": "stream",
     "text": [
      "Bandwidth: 1.9, Kernel: exponential, Accuracy: 0.28\n",
      "Bandwidth: 1.9, Kernel: linear, Accuracy: 0.23\n",
      "Bandwidth: 1.9, Kernel: cosine, Accuracy: 0.23\n"
     ]
    },
    {
     "name": "stderr",
     "output_type": "stream",
     "text": [
      "C:\\Python310\\lib\\site-packages\\numpy\\lib\\function_base.py:4573: RuntimeWarning: invalid value encountered in subtract\n",
      "  diff_b_a = subtract(b, a)\n"
     ]
    },
    {
     "name": "stdout",
     "output_type": "stream",
     "text": [
      "Bandwidth: 2.0, Kernel: gaussian, Accuracy: 0.28\n",
      "Bandwidth: 2.0, Kernel: tophat, Accuracy: 0.23\n",
      "Bandwidth: 2.0, Kernel: epanechnikov, Accuracy: 0.23\n"
     ]
    },
    {
     "name": "stderr",
     "output_type": "stream",
     "text": [
      "C:\\Python310\\lib\\site-packages\\numpy\\lib\\function_base.py:4573: RuntimeWarning: invalid value encountered in subtract\n",
      "  diff_b_a = subtract(b, a)\n",
      "C:\\Python310\\lib\\site-packages\\numpy\\lib\\function_base.py:4573: RuntimeWarning: invalid value encountered in subtract\n",
      "  diff_b_a = subtract(b, a)\n"
     ]
    },
    {
     "name": "stdout",
     "output_type": "stream",
     "text": [
      "Bandwidth: 2.0, Kernel: exponential, Accuracy: 0.28\n",
      "Bandwidth: 2.0, Kernel: linear, Accuracy: 0.23\n",
      "Bandwidth: 2.0, Kernel: cosine, Accuracy: 0.23\n",
      "Best Accuracy: 0.28 with Bandwidth: 0.1 and Kernel: gaussian\n"
     ]
    },
    {
     "name": "stderr",
     "output_type": "stream",
     "text": [
      "C:\\Python310\\lib\\site-packages\\numpy\\lib\\function_base.py:4573: RuntimeWarning: invalid value encountered in subtract\n",
      "  diff_b_a = subtract(b, a)\n"
     ]
    }
   ],
   "source": [
    "#KernelDensity\n",
    "import pandas as pd\n",
    "import numpy as np\n",
    "from sklearn.preprocessing import StandardScaler\n",
    "from sklearn.neighbors import KernelDensity\n",
    "from sklearn.metrics import accuracy_score\n",
    "\n",
    "# Load the normal data\n",
    "df_normal = pd.read_csv('normall.csv')\n",
    "print(df_normal.shape)\n",
    "\n",
    "# Extract feature columns\n",
    "X_normal = df_normal[['bearingA_x', 'bearingA_y', 'bearingB_x', 'bearingB_y']].values\n",
    "\n",
    "# Standardize the data\n",
    "scaler = StandardScaler()\n",
    "X_normal_scaled = scaler.fit_transform(X_normal)\n",
    "\n",
    "# Load the anomaly detection data\n",
    "df_anomaly = pd.read_csv('anomlaydetection.csv')\n",
    "print(df_anomaly.shape)\n",
    "\n",
    "# Extract features and true labels\n",
    "X_anomaly = df_anomaly[['bearingA_x', 'bearingA_y', 'bearingB_x', 'bearingB_y']].values\n",
    "y_true = df_anomaly['Anomaly'].values\n",
    "\n",
    "# Standardize the anomaly detection data\n",
    "X_anomaly_scaled = scaler.transform(X_anomaly)\n",
    "\n",
    "# Parameters to try\n",
    "bandwidths = np.linspace(0.1, 2.0, 20)\n",
    "kernels = ['gaussian', 'tophat', 'epanechnikov', 'exponential', 'linear', 'cosine']\n",
    "\n",
    "# Initialize variables to store the best results\n",
    "best_accuracy = 0\n",
    "best_params = {'bandwidth': None, 'kernel': None}\n",
    "\n",
    "# Grid search over bandwidths and kernels\n",
    "for bandwidth in bandwidths:\n",
    "    for kernel in kernels:\n",
    "        # Train the Kernel Density model\n",
    "        kde = KernelDensity(kernel=kernel, bandwidth=bandwidth)\n",
    "        kde.fit(X_normal_scaled)\n",
    "        \n",
    "        # Predict anomalies using the trained Kernel Density model\n",
    "        log_density = kde.score_samples(X_anomaly_scaled)\n",
    "        \n",
    "        # Define a threshold for anomaly detection\n",
    "        threshold = np.percentile(log_density, 5)  # for example, the bottom 5% density\n",
    "        y_pred = log_density < threshold\n",
    "        \n",
    "        # Convert boolean predictions to integers (0 for normal, 1 for anomaly)\n",
    "        y_pred = np.array(y_pred, dtype=int)\n",
    "        \n",
    "        # Convert true labels to integers (0 for normal, 1 for anomaly)\n",
    "        y_true = np.array(y_true, dtype=int)\n",
    "        \n",
    "        # Calculate accuracy\n",
    "        accuracy = accuracy_score(y_true, y_pred)\n",
    "        \n",
    "        # Update best parameters if current accuracy is better\n",
    "        if accuracy > best_accuracy:\n",
    "            best_accuracy = accuracy\n",
    "            best_params['bandwidth'] = bandwidth\n",
    "            best_params['kernel'] = kernel\n",
    "\n",
    "        print(f\"Bandwidth: {bandwidth}, Kernel: {kernel}, Accuracy: {accuracy:.2f}\")\n",
    "\n",
    "print(f\"Best Accuracy: {best_accuracy:.2f} with Bandwidth: {best_params['bandwidth']} and Kernel: {best_params['kernel']}\")\n"
   ]
  },
  {
   "cell_type": "code",
   "execution_count": null,
   "id": "c2192d6d",
   "metadata": {},
   "outputs": [],
   "source": []
  }
 ],
 "metadata": {
  "kernelspec": {
   "display_name": "Python 3 (ipykernel)",
   "language": "python",
   "name": "python3"
  },
  "language_info": {
   "codemirror_mode": {
    "name": "ipython",
    "version": 3
   },
   "file_extension": ".py",
   "mimetype": "text/x-python",
   "name": "python",
   "nbconvert_exporter": "python",
   "pygments_lexer": "ipython3",
   "version": "3.10.7"
  }
 },
 "nbformat": 4,
 "nbformat_minor": 5
}
